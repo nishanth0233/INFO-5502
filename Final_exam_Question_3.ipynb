{
  "cells": [
    {
      "cell_type": "markdown",
      "metadata": {
        "id": "view-in-github",
        "colab_type": "text"
      },
      "source": [
        "<a href=\"https://colab.research.google.com/github/nishanth0233/INFO-5502/blob/main/Final_exam_Question_3.ipynb\" target=\"_parent\"><img src=\"https://colab.research.google.com/assets/colab-badge.svg\" alt=\"Open In Colab\"/></a>"
      ]
    },
    {
      "cell_type": "markdown",
      "metadata": {
        "id": "Dk1fDILAwHC8"
      },
      "source": [
        "### INFO 5502 Final Exam Question 3\n"
      ]
    },
    {
      "cell_type": "markdown",
      "metadata": {
        "id": "1BKJ2-0PwHDA"
      },
      "source": [
        "<span style='background:yellow'>**Question 3 (100 pt, each sub-question is 10 pt).**</span> \n",
        "\n",
        "Part A: Given Inetd dataset, an intrusion detection dataset that contains 2 columns. The first column represents a process ID number (PID) and the second column represents a system call. The goal is to extract the entire system call sequence by its PID, then tokenize and parse each sequence into 25-grams. After this, we’ll split the data into training and testing sets. Next, we ensure data quality in the training dataset by removing duplicate sequences within each class and overlapped sequences between both classes. To ensure a fair evaluation, we also clean the testing set by repeating the previous step. You will implement a Decision Tree model to train and test on the training set and testing set that we just clean. \n",
        "\n",
        "\n",
        "Part B: As the data type is sequential, we want to know how similar the sequences from both classes are and visualize how the similarity scores vary in different sequence lengths. Compute a cosine similarity score of 100 random pairs from both classes and get a median cosine similarity. Repeat this step in different sequence lengths (5, 10, 15, and 20). Plot a line chart to visualize how the median cosine similarities vary through sequence lengths of 5 to 25. \n",
        "\n",
        "You can download the datasets from github: https://github.com/unt-iialab/info5502-spring2022/tree/main/finalexam/q4\n",
        "\n",
        "\n",
        "Step by step instructions and questions:\n",
        "\n",
        "(1) Attached are the Normal and Intrusion data folders. Read in the data and store them in two separate dataframes. Combine the system calls (the second column) from the same PID (the first column) into a sequence or a string. \n",
        "\n",
        "(2) Parse an entire sequence into smaller sequences of size 25. (Hint: Use word_tokenize and ngrams from nltk library to parse).\n",
        "\n",
        "(3) Add labels to the data, and partition the labeled data into training data and testing data with a ratio of 70/30.\n",
        "\n",
        "(4) As the dataset has a lot of duplicate sequences, make sure that the testing data only contain unique sequences and that these sequences do not exist in the training data. Condense training data and testing data into two sets. Take the difference between the testing set and training set to remove the overlapped sequences from the testing data. \n",
        "\n",
        "(5) The sequences from each class can be repetitive, and some of these sequences may have different labels. Therefore, we need to remove the duplicate sequences within each class and the overlapped sequences from the Intrusion class. Start out by separating the Normal class and Intrusion class in the training data. Use the same concept in Question 4 to remove duplicate sequences and overlapped sequences from the training data.\n",
        "\n",
        "(6) Repeat Question 5 to clean the testing data.\n",
        "\n",
        "(7) Bootstrap the training data to get the same number of sequences from each class. Train and evaluate a Decision Tree model using the training data and testing data that we just clean. How is the performance?\n",
        "\n",
        "(8) Randomly sample 100 pairs of sequences from both classes and calculate the median cosine similarity.\n",
        "\n",
        "(9) Refer back to Question 2, parse the data into a length of 5, 10, 15, and 20. Clean the data from each class using Question 5. For each sequence length, calculate the median cosine similarity of 100 random pairs of sequences from both classes. \n",
        "\n",
        "(10) Plot a line chart to visualize how the median cosine similarities vary through different sequence lengths from 5 to 25.\n"
      ]
    },
    {
      "cell_type": "code",
      "execution_count": null,
      "metadata": {
        "id": "Cvm2GNvSwHDG"
      },
      "outputs": [],
      "source": [
        "import pandas as pd\n",
        "from sklearn.model_selection import train_test_split\n",
        "from sklearn.tree import DecisionTreeRegressor\n",
        "import numpy as np\n",
        "import math"
      ]
    },
    {
      "cell_type": "code",
      "source": [
        "normalSet=pd.read_csv('https://raw.githubusercontent.com/unt-iialab/info5502-spring2022/main/finalexam/q4/inetd-normal.int',sep=' ',header=None)\n",
        "print(str(\"!!!NORMAL SET!!!\").center(100))\n",
        "print(normalSet.head(5).to_string())\n",
        "intrusionSet=pd.read_csv('https://raw.githubusercontent.com/unt-iialab/info5502-spring2022/main/finalexam/q4/inetd-intrusion.int',sep=' ',header=None)\n",
        "print(str(\"!!!INTRUSION SET!!!\").center(100))\n",
        "print(intrusionSet.head(5).to_string())"
      ],
      "metadata": {
        "colab": {
          "base_uri": "https://localhost:8080/"
        },
        "id": "v0paCsbn5eQ2",
        "outputId": "13e111f5-9dca-450b-dfaa-b05f2f3a1594"
      },
      "execution_count": null,
      "outputs": [
        {
          "output_type": "stream",
          "name": "stdout",
          "text": [
            "                                          !!!NORMAL SET!!!                                          \n",
            "     0    1\n",
            "0  167   90\n",
            "1  167  125\n",
            "2  167  125\n",
            "3  167  106\n",
            "4  167    5\n",
            "                                        !!!INTRUSION SET!!!                                         \n",
            "     0    1\n",
            "0  167   90\n",
            "1  167  125\n",
            "2  167  125\n",
            "3  167  106\n",
            "4  167    5\n"
          ]
        }
      ]
    },
    {
      "cell_type": "code",
      "source": [
        "#Checking For Null Values in both the datasets\n",
        "print(normalSet.any().isna())\n",
        "print('Note there are no null values in the Normal Dataset\\n')\n",
        "print(intrusionSet.any().isna())\n",
        "print('Note there are no null values in the Intrusion Dataset')"
      ],
      "metadata": {
        "colab": {
          "base_uri": "https://localhost:8080/"
        },
        "id": "OtaxkigF6GTM",
        "outputId": "70a0af9c-dae0-4172-c02d-99e067a62bf9"
      },
      "execution_count": null,
      "outputs": [
        {
          "output_type": "stream",
          "name": "stdout",
          "text": [
            "0    False\n",
            "1    False\n",
            "dtype: bool\n",
            "Note there are no null values in the Normal Dataset\n",
            "\n",
            "0    False\n",
            "1    False\n",
            "dtype: bool\n",
            "Note there are no null values in the Intrusion Dataset\n"
          ]
        }
      ]
    },
    {
      "cell_type": "code",
      "source": [
        "#Checking For Duplicate values in both the datasets\n",
        "print(str(\"Before updating the dataset\").center(100))\n",
        "print(normalSet[normalSet.duplicated()])\n",
        "print('Note there are Duplicates in the Normal Dataset\\n')\n",
        "print(intrusionSet[intrusionSet.duplicated()])\n",
        "print('Note there are Duplicates in the Intrusion Dataset\\n')"
      ],
      "metadata": {
        "colab": {
          "base_uri": "https://localhost:8080/"
        },
        "id": "RONt5mGB6P35",
        "outputId": "6bef2563-e73f-42e5-ff6f-2569fc590d9d"
      },
      "execution_count": null,
      "outputs": [
        {
          "output_type": "stream",
          "name": "stdout",
          "text": [
            "                                    Before updating the dataset                                     \n",
            "        0    1\n",
            "2     167  125\n",
            "5     167   90\n",
            "7     167    5\n",
            "9     167   90\n",
            "10    167   90\n",
            "..    ...  ...\n",
            "535  2669    6\n",
            "536  2669    6\n",
            "537  2669    6\n",
            "538  2669    6\n",
            "539  2669    6\n",
            "\n",
            "[489 rows x 2 columns]\n",
            "Note there are Duplicates in the Normal Dataset\n",
            "\n",
            "         0    1\n",
            "2      167  125\n",
            "5      167   90\n",
            "7      167    5\n",
            "9      167   90\n",
            "10     167   90\n",
            "...    ...  ...\n",
            "8365  4470    6\n",
            "8366  4470    6\n",
            "8367  4470    6\n",
            "8368  4470    6\n",
            "8369  4470    6\n",
            "\n",
            "[8018 rows x 2 columns]\n",
            "Note there are Duplicates in the Intrusion Dataset\n",
            "\n"
          ]
        }
      ]
    },
    {
      "cell_type": "code",
      "source": [
        "print(str('Before deleting the duplicates').center(100))\n",
        "print('Size of Normal Dataset',normalSet.shape)\n",
        "print('Size of Intrusion Dataset',intrusionSet.shape)"
      ],
      "metadata": {
        "colab": {
          "base_uri": "https://localhost:8080/"
        },
        "id": "whSh4CvL8iGk",
        "outputId": "6179897a-9a7a-434b-cbab-196dd2687a01"
      },
      "execution_count": null,
      "outputs": [
        {
          "output_type": "stream",
          "name": "stdout",
          "text": [
            "                                   Before deleting the duplicates                                   \n",
            "Size of Normal Dataset (541, 2)\n",
            "Size of Intrusion Dataset (8371, 2)\n"
          ]
        }
      ]
    },
    {
      "cell_type": "code",
      "source": [
        "normalSet.drop_duplicates(inplace=True)\n",
        "intrusionSet.drop_duplicates(inplace=True)"
      ],
      "metadata": {
        "id": "pP8FgU4-6ug_"
      },
      "execution_count": null,
      "outputs": []
    },
    {
      "cell_type": "code",
      "source": [
        "#Checking For Duplicate values in both the datasets\n",
        "print(str(\"After updating the dataset\").center(100))\n",
        "print(normalSet[normalSet.duplicated()])\n",
        "print('Note there are no Duplicates in the Normal Dataset\\n')\n",
        "print(intrusionSet[intrusionSet.duplicated()])\n",
        "print('Note there are no Duplicates in the Intrusion Dataset\\n')"
      ],
      "metadata": {
        "colab": {
          "base_uri": "https://localhost:8080/"
        },
        "id": "nRNqR2LG63QF",
        "outputId": "316f21cd-b09c-401d-a798-f749cff64f6b"
      },
      "execution_count": null,
      "outputs": [
        {
          "output_type": "stream",
          "name": "stdout",
          "text": [
            "                                     After updating the dataset                                     \n",
            "Empty DataFrame\n",
            "Columns: [0, 1]\n",
            "Index: []\n",
            "Note there are no Duplicates in the Normal Dataset\n",
            "\n",
            "Empty DataFrame\n",
            "Columns: [0, 1]\n",
            "Index: []\n",
            "Note there are no Duplicates in the Intrusion Dataset\n",
            "\n"
          ]
        }
      ]
    },
    {
      "cell_type": "code",
      "source": [
        "print(str('After deleting the duplicates').center(100))\n",
        "print('Size of Normal Dataset',normalSet.shape)\n",
        "print('Size of Intrusion Dataset',intrusionSet.shape)"
      ],
      "metadata": {
        "colab": {
          "base_uri": "https://localhost:8080/"
        },
        "id": "Hkn1DbSm71dQ",
        "outputId": "e9976d0e-d72c-4649-bf97-569b7e843ad2"
      },
      "execution_count": null,
      "outputs": [
        {
          "output_type": "stream",
          "name": "stdout",
          "text": [
            "                                   After deleting the duplicates                                    \n",
            "Size of Normal Dataset (52, 2)\n",
            "Size of Intrusion Dataset (353, 2)\n"
          ]
        }
      ]
    },
    {
      "cell_type": "code",
      "source": [
        "normalSet.rename(columns = {0:'PID', 1:'System Call'}, inplace = True)\n",
        "intrusionSet.rename(columns = {0:'PID', 1:'System Call'}, inplace = True)"
      ],
      "metadata": {
        "id": "i6nHjx1h-MFV"
      },
      "execution_count": null,
      "outputs": []
    },
    {
      "cell_type": "code",
      "source": [
        "combinedDataset = normalSet.append(intrusionSet, ignore_index=True)\n",
        "combinedDataset['System Call'] = combinedDataset['System Call'].astype(str)\n",
        "combinedDataset['System Call'] = combinedDataset.groupby('PID')['System Call'].transform(lambda x: ','.join(x))\n",
        "combinedDataset.drop_duplicates(inplace=True)\n",
        "print(combinedDataset.head(5))"
      ],
      "metadata": {
        "colab": {
          "base_uri": "https://localhost:8080/"
        },
        "id": "KDikbAyNGJcC",
        "outputId": "dd6daea1-c2fb-4b3a-93c2-65bcfe33633f"
      },
      "execution_count": null,
      "outputs": [
        {
          "output_type": "stream",
          "name": "stdout",
          "text": [
            "      PID                                        System Call\n",
            "0     167  90,125,106,5,6,3,91,136,49,24,47,50,45,2,1,90,...\n",
            "15    168  66,12,5,63,6,20,108,90,4,91,76,3,126,45,19,102...\n",
            "41   2669                    126,5,45,108,90,3,19,6,91,63,11\n",
            "93   4121                    126,5,45,108,90,3,19,6,91,63,11\n",
            "104  4152                    126,5,45,108,90,3,19,6,91,63,11\n"
          ]
        }
      ]
    },
    {
      "cell_type": "code",
      "source": [
        "Features=normalSet[['PID']]\n",
        "Targets=normalSet['System Call']"
      ],
      "metadata": {
        "id": "cP3TeDFQNOGP"
      },
      "execution_count": null,
      "outputs": []
    },
    {
      "cell_type": "code",
      "source": [
        "#Splitting the dataset into training and test sets\n",
        "TrainFeatures,TestFeatures,TrainTargets,TestTargets=train_test_split(Features,Targets,test_size = 0.30, random_state = 42)\n",
        "print(\"Training Features Shape\",TrainFeatures.shape)\n",
        "print(\"Training Targets Shape\",TrainTargets.shape)\n",
        "print(\"Testing Features Shape\",TestFeatures.shape)\n",
        "print(\"Testing Targets Shape\",TestTargets.shape)"
      ],
      "metadata": {
        "colab": {
          "base_uri": "https://localhost:8080/"
        },
        "id": "L0s4KLWuNdOd",
        "outputId": "1f384160-938a-4d82-b4a7-ec4e08cf8c2d"
      },
      "execution_count": null,
      "outputs": [
        {
          "output_type": "stream",
          "name": "stdout",
          "text": [
            "Training Features Shape (36, 1)\n",
            "Training Targets Shape (36,)\n",
            "Testing Features Shape (16, 1)\n",
            "Testing Targets Shape (16,)\n"
          ]
        }
      ]
    },
    {
      "cell_type": "code",
      "source": [
        "#Building and Training the Decision Tree Regression Model\n",
        "dt=DecisionTreeRegressor(max_depth=10)\n",
        "dt.fit(TrainFeatures,TrainTargets)\n",
        "#Predicting on the Test Set and calcualting root mean squared error\n",
        "decisionPredictedValues=dt.predict(TestFeatures)\n",
        "decisionPredictedValues"
      ],
      "metadata": {
        "colab": {
          "base_uri": "https://localhost:8080/"
        },
        "id": "AwTB-JtBN6is",
        "outputId": "56c96977-3b35-4fdb-d903-44b86d543cb3"
      },
      "execution_count": null,
      "outputs": [
        {
          "output_type": "execute_result",
          "data": {
            "text/plain": [
              "array([61.47619048, 44.85714286, 44.85714286, 72.375     , 44.85714286,\n",
              "       72.375     , 61.47619048, 44.85714286, 72.375     , 61.47619048,\n",
              "       72.375     , 72.375     , 61.47619048, 72.375     , 61.47619048,\n",
              "       72.375     ])"
            ]
          },
          "metadata": {},
          "execution_count": 262
        }
      ]
    },
    {
      "cell_type": "code",
      "source": [
        "#Root Mean Squared Error for Decision Tree Regression Model\n",
        "RMSE=math.sqrt(np.square(np.subtract(decisionPredictedValues,TestTargets)).mean())\n",
        "print(\"RMSE Error\",RMSE)\n",
        "print(\"Model Score\",dt.score(TrainFeatures,TrainTargets))"
      ],
      "metadata": {
        "colab": {
          "base_uri": "https://localhost:8080/"
        },
        "id": "4mGffHGXOxQ6",
        "outputId": "30514e3a-7cf8-48ab-a6b3-5cf16acd453e"
      },
      "execution_count": null,
      "outputs": [
        {
          "output_type": "stream",
          "name": "stdout",
          "text": [
            "RMSE Error 48.93622689411712\n",
            "Model Score 0.042935653664576634\n"
          ]
        }
      ]
    },
    {
      "cell_type": "code",
      "source": [
        "dt.fit(normalSet[['PID',]],normalSet['System Call'])\n",
        "PredictedValues=dt.predict(intrusionSet[['PID']])"
      ],
      "metadata": {
        "id": "D67y3oL4PGEb"
      },
      "execution_count": null,
      "outputs": []
    }
  ],
  "metadata": {
    "kernelspec": {
      "display_name": "Python 3",
      "language": "python",
      "name": "python3"
    },
    "language_info": {
      "codemirror_mode": {
        "name": "ipython",
        "version": 3
      },
      "file_extension": ".py",
      "mimetype": "text/x-python",
      "name": "python",
      "nbconvert_exporter": "python",
      "pygments_lexer": "ipython3",
      "version": "3.8.5"
    },
    "colab": {
      "name": "Final exam Question 3.ipynb",
      "provenance": [],
      "collapsed_sections": [],
      "include_colab_link": true
    }
  },
  "nbformat": 4,
  "nbformat_minor": 0
}