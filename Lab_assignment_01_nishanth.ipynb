{
  "nbformat": 4,
  "nbformat_minor": 0,
  "metadata": {
    "colab": {
      "name": "Lab-assignment-01-nishanth.ipynb",
      "provenance": []
    },
    "kernelspec": {
      "name": "python3",
      "display_name": "Python 3"
    },
    "language_info": {
      "name": "python"
    }
  },
  "cells": [
    {
      "cell_type": "code",
      "source": [
        "#1st answer\n",
        "#sample string is 'google.com'\n",
        "#initializing string\n",
        "test_str = 'google.com'\n",
        "#using naive method to get count of each charcters in string\n",
        "all_freq = {}\n",
        "\n",
        "for i in test_str:\n",
        "    if i in all_freq:\n",
        "      all_freq[i] += 1\n",
        "    else:\n",
        "      all_freq[i] = 1  \n",
        "#executing the result with\n",
        "print (\"Expected result:\\n\" + str(all_freq))"
      ],
      "metadata": {
        "colab": {
          "base_uri": "https://localhost:8080/"
        },
        "id": "NEKeEt9iAOx0",
        "outputId": "78cba0a8-49f0-4c41-f2d1-ff078c0c0c6f"
      },
      "execution_count": null,
      "outputs": [
        {
          "output_type": "stream",
          "name": "stdout",
          "text": [
            "Expected result:\n",
            "{'g': 2, 'o': 3, 'l': 1, 'e': 1, '.': 1, 'c': 1, 'm': 1}\n"
          ]
        }
      ]
    },
    {
      "cell_type": "code",
      "source": [
        "#2nd answer\n",
        "#sum of all items in a list\n",
        "#we need to create a list\n",
        "list = [1,2,3,4,5]\n",
        "#we will use sum function\n",
        "total = sum(list)\n",
        "#we will execute \n",
        "print(\"sum of all the items in list : \", total)\n",
        "\n",
        "\n"
      ],
      "metadata": {
        "colab": {
          "base_uri": "https://localhost:8080/"
        },
        "id": "rqXjSlzGFk2f",
        "outputId": "c11291b5-f1c0-4c8e-c03b-af972fd540e6"
      },
      "execution_count": null,
      "outputs": [
        {
          "output_type": "stream",
          "name": "stdout",
          "text": [
            "sum of all the items in list :  15\n"
          ]
        }
      ]
    },
    {
      "cell_type": "code",
      "source": [
        "#3rd answer\n",
        "#Get a string from a given string where all occurences of its first char have been changed to '$' except the first char itself\n",
        "#we need to assign string to a variable\n",
        "a = \"restart\"\n",
        "#using change_char\n",
        "def change_char(a) :\n",
        "  char = a[0]\n",
        "#replacing the character \n",
        "  a = a.replace(char, '$')\n",
        "#to define 1st character\n",
        "  a = char + a[1:]\n",
        "  return a\n",
        "print(change_char(a))"
      ],
      "metadata": {
        "colab": {
          "base_uri": "https://localhost:8080/"
        },
        "id": "PKl7WE8_I5PB",
        "outputId": "45ef91e9-aedc-4a21-c920-ca801ea6f769"
      },
      "execution_count": null,
      "outputs": [
        {
          "output_type": "stream",
          "name": "stdout",
          "text": [
            "resta$t\n"
          ]
        }
      ]
    },
    {
      "cell_type": "code",
      "source": [
        "#4th answer\n",
        "#defining a and b\n",
        "a = int(input(\"Enter value of 'a': \"))\n",
        "b = int(input(\"Enter value of 'b': \")) \n",
        "#setting up S formula according to quiestion\n",
        "S = 3.14 * (1 + a/b)**3\n",
        "#executing the function\n",
        "print(S)"
      ],
      "metadata": {
        "colab": {
          "base_uri": "https://localhost:8080/"
        },
        "id": "PKsLr7wGPF8X",
        "outputId": "b5eac5f7-9e27-4f3b-8e6d-8ae90cc55796"
      },
      "execution_count": null,
      "outputs": [
        {
          "output_type": "stream",
          "name": "stdout",
          "text": [
            "Enter value of 'a': 1\n",
            "Enter value of 'b': 1\n",
            "25.12\n"
          ]
        }
      ]
    },
    {
      "cell_type": "code",
      "source": [
        "#5th answer\n",
        "#program to concatenate dictionaries\n",
        "#we will input the dictionaries provided in question\n",
        "dic1={1:10, 2:20}\n",
        "dic2={3:30, 4:40}\n",
        "dic3={5:50, 6:60}\n",
        "dic4={}\n",
        "for d in (dic1,dic2,dic3): dic4.update(d)\n",
        "print(\"expected result: \", dic4)"
      ],
      "metadata": {
        "colab": {
          "base_uri": "https://localhost:8080/"
        },
        "id": "XoeolC3NQsfs",
        "outputId": "f8dcc581-ce69-4dcb-8e67-caede16e76ac"
      },
      "execution_count": null,
      "outputs": [
        {
          "output_type": "stream",
          "name": "stdout",
          "text": [
            "expected result:  {1: 10, 2: 20, 3: 30, 4: 40, 5: 50, 6: 60}\n"
          ]
        }
      ]
    },
    {
      "cell_type": "code",
      "source": [
        "#6th answer\n",
        "#python program to check whether an element exists within a tuple\n",
        "#first we need to enter a tuple data set\n",
        "tuplea = (\"a\",\"b\",1,2,3,\"f\")\n",
        "#check whether an element is in tuple or not through true/false\n",
        "print( \"b\" in tuplea)\n",
        "#as b is in tuple we need to get true\n",
        "print(\"d\" in tuplea)\n",
        "#as d is not in tuple we need to get false"
      ],
      "metadata": {
        "colab": {
          "base_uri": "https://localhost:8080/"
        },
        "id": "Sm-q9Tm8UX5q",
        "outputId": "0d079144-700d-4837-b87d-b5be02837017"
      },
      "execution_count": null,
      "outputs": [
        {
          "output_type": "stream",
          "name": "stdout",
          "text": [
            "True\n",
            "False\n"
          ]
        }
      ]
    },
    {
      "cell_type": "code",
      "source": [
        "#7th answer\n",
        "#python program to find maximum and minimum value in a set\n",
        "#create a random set\n",
        "seta = {1,2,3,4,5,6,7}\n",
        "print(\"sample set elements:\")\n",
        "print(seta)\n",
        "print(type(seta))\n",
        "print(\"\\nMaximum value of the set:\")\n",
        "print(max(seta))\n",
        "print(\"\\nMinimum value of the set:\")\n",
        "print(min(seta))\n"
      ],
      "metadata": {
        "colab": {
          "base_uri": "https://localhost:8080/"
        },
        "id": "urrp4e82sIId",
        "outputId": "0af166a2-1af0-4d5b-b2de-2c1af9071dba"
      },
      "execution_count": null,
      "outputs": [
        {
          "output_type": "stream",
          "name": "stdout",
          "text": [
            "sample set elements:\n",
            "{1, 2, 3, 4, 5, 6, 7}\n",
            "<class 'set'>\n",
            "\n",
            "Maximum value of the set:\n",
            "7\n",
            "\n",
            "Minimum value of the set:\n",
            "1\n"
          ]
        }
      ]
    },
    {
      "cell_type": "code",
      "source": [
        "#8th answer\n",
        "#importing random function\n",
        "import random\n",
        "#adding participants of class into a list\n",
        "participants=[\"ja0964\",\"sa1198\",\"sb1357\",\"vb0218\",\"sc1229\",\"kg0569\",\"kg0470\",\"sg1297\",\"bg0320\",\"fh0141\",\"ji1252\",\"sk1386\",\"ak0956\",\"sk1390\",\"sk1458\",\"sk1313\",\"ak0934\",\"vm0377\",\"nm0618\",\"sm1640\",\"sm1907\",\"gn0108\",\"pr0353\",\"dr0609\",\"ms1500\",\"aos0040\",\"ds0184\",\"av0659\",\"nv0234\",\"hy0232\"]\n",
        "group=1\n",
        "#defining number of people in a group\n",
        "membersInGroup=5\n",
        "\n",
        "for participant in participants:\n",
        "    if membersInGroup==5:\n",
        "        print(\"Group {} consists of;\".format(group))\n",
        "        membersInGroup=0\n",
        "        group+=1\n",
        "    person=random.choice(participants)\n",
        "    print(person)\n",
        "    membersInGroup+=1\n",
        "    "
      ],
      "metadata": {
        "colab": {
          "base_uri": "https://localhost:8080/"
        },
        "id": "-_Ke2J5suiFi",
        "outputId": "b6518aaa-0dbc-4bdc-9f6e-0aed1609d7d8"
      },
      "execution_count": 63,
      "outputs": [
        {
          "output_type": "stream",
          "name": "stdout",
          "text": [
            "Group 1 consists of;\n",
            "aos0040\n",
            "pr0353\n",
            "sk1313\n",
            "ds0184\n",
            "ds0184\n",
            "Group 2 consists of;\n",
            "sk1458\n",
            "nm0618\n",
            "fh0141\n",
            "nv0234\n",
            "ji1252\n",
            "Group 3 consists of;\n",
            "ji1252\n",
            "bg0320\n",
            "ak0956\n",
            "vm0377\n",
            "sm1907\n",
            "Group 4 consists of;\n",
            "pr0353\n",
            "ja0964\n",
            "pr0353\n",
            "ak0956\n",
            "pr0353\n",
            "Group 5 consists of;\n",
            "ak0934\n",
            "aos0040\n",
            "ak0934\n",
            "bg0320\n",
            "sb1357\n",
            "Group 6 consists of;\n",
            "gn0108\n",
            "sk1390\n",
            "sm1907\n",
            "sg1297\n",
            "bg0320\n"
          ]
        }
      ]
    },
    {
      "cell_type": "code",
      "source": [
        "#9th answer\n",
        "#Creating an array of integers    \n",
        "array = [1, 2, 3, 4, 1, 2, 3, 6, 7, 8];     \n",
        "print(\"Duplicate elements in a given array of integers: \");    \n",
        "#logic for duplicate elements in the array    \n",
        "for i in range(0, len(array)):    \n",
        "    for j in range(i+1, len(array)):    \n",
        "        if(array[i] == array[j]):    \n",
        "            print(array[j]);    "
      ],
      "metadata": {
        "colab": {
          "base_uri": "https://localhost:8080/"
        },
        "id": "-n3MgdwN-5zT",
        "outputId": "c538bad4-b31c-47c7-8fbf-aff68ba6b1d7"
      },
      "execution_count": 71,
      "outputs": [
        {
          "output_type": "stream",
          "name": "stdout",
          "text": [
            "Duplicate elements in a given array of integers: \n",
            "1\n",
            "2\n",
            "3\n"
          ]
        }
      ]
    },
    {
      "cell_type": "code",
      "source": [
        "#10th answer\n",
        "#import date and timedelta\n",
        "from datetime import date, timedelta\n",
        "#defining sundays of whole year\n",
        "def all_sundays(year):\n",
        "# January 1st of the given year\n",
        "       dt = date(year, 1, 1)\n",
        "# First Sunday of the given year       \n",
        "       dt += timedelta(days = 6 - dt.weekday())         \n",
        "       while dt.year == year:\n",
        "          yield dt\n",
        "          dt += timedelta(days = 7)\n",
        "#considering 2022          \n",
        "for s in all_sundays(2022):\n",
        "   print(s)"
      ],
      "metadata": {
        "colab": {
          "base_uri": "https://localhost:8080/"
        },
        "id": "8JBpsclXKy1F",
        "outputId": "c1b02b16-b2f9-48fc-8112-7e51cfe36700"
      },
      "execution_count": 75,
      "outputs": [
        {
          "output_type": "stream",
          "name": "stdout",
          "text": [
            "2022-01-02\n",
            "2022-01-09\n",
            "2022-01-16\n",
            "2022-01-23\n",
            "2022-01-30\n",
            "2022-02-06\n",
            "2022-02-13\n",
            "2022-02-20\n",
            "2022-02-27\n",
            "2022-03-06\n",
            "2022-03-13\n",
            "2022-03-20\n",
            "2022-03-27\n",
            "2022-04-03\n",
            "2022-04-10\n",
            "2022-04-17\n",
            "2022-04-24\n",
            "2022-05-01\n",
            "2022-05-08\n",
            "2022-05-15\n",
            "2022-05-22\n",
            "2022-05-29\n",
            "2022-06-05\n",
            "2022-06-12\n",
            "2022-06-19\n",
            "2022-06-26\n",
            "2022-07-03\n",
            "2022-07-10\n",
            "2022-07-17\n",
            "2022-07-24\n",
            "2022-07-31\n",
            "2022-08-07\n",
            "2022-08-14\n",
            "2022-08-21\n",
            "2022-08-28\n",
            "2022-09-04\n",
            "2022-09-11\n",
            "2022-09-18\n",
            "2022-09-25\n",
            "2022-10-02\n",
            "2022-10-09\n",
            "2022-10-16\n",
            "2022-10-23\n",
            "2022-10-30\n",
            "2022-11-06\n",
            "2022-11-13\n",
            "2022-11-20\n",
            "2022-11-27\n",
            "2022-12-04\n",
            "2022-12-11\n",
            "2022-12-18\n",
            "2022-12-25\n"
          ]
        }
      ]
    }
  ]
}