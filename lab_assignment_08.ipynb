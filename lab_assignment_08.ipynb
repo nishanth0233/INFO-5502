{
  "cells": [
    {
      "cell_type": "markdown",
      "metadata": {
        "id": "view-in-github",
        "colab_type": "text"
      },
      "source": [
        "<a href=\"https://colab.research.google.com/github/nishanth0233/INFO-5502/blob/main/lab_assignment_08.ipynb\" target=\"_parent\"><img src=\"https://colab.research.google.com/assets/colab-badge.svg\" alt=\"Open In Colab\"/></a>"
      ]
    },
    {
      "cell_type": "markdown",
      "metadata": {
        "id": "xgIW4TNWbnuH"
      },
      "source": [
        "## The eighth Lab-assignment (04/07/2022, 50 points in total)"
      ]
    },
    {
      "cell_type": "markdown",
      "metadata": {
        "id": "p5s-NT8ibnuL"
      },
      "source": [
        "The purpose of this exercise is to understand how to conduct Sampling and Distributions. The data used in this lab assignment will contain salary data and other statistics for basketball players from the 2014-2015 NBA season. This data was collected from the following sports analytic sites: [Basketball Reference](http://www.basketball-reference.com) and [Spotrac](http://www.spotrac.com). The dataset of this assignment can be downloaded from github: https://github.com/unt-iialab/info5502-spring2022/tree/main/datasets/lab-assignment-8\n",
        "\n",
        "First, set up the tests and imports by running the cell below."
      ]
    },
    {
      "cell_type": "code",
      "execution_count": 1,
      "metadata": {
        "id": "xkvKN-PIbnuM",
        "outputId": "eb14d312-7ff1-4e94-9412-4436445c8911",
        "colab": {
          "base_uri": "https://localhost:8080/"
        }
      },
      "outputs": [
        {
          "output_type": "stream",
          "name": "stdout",
          "text": [
            "Requirement already satisfied: datascience in /usr/local/lib/python3.7/dist-packages (0.10.6)\n",
            "Requirement already satisfied: sphinx in /usr/local/lib/python3.7/dist-packages (from datascience) (1.8.6)\n",
            "Collecting folium==0.2.1\n",
            "  Downloading folium-0.2.1.tar.gz (69 kB)\n",
            "\u001b[K     |████████████████████████████████| 69 kB 2.6 MB/s \n",
            "\u001b[?25hRequirement already satisfied: coveralls==0.5 in /usr/local/lib/python3.7/dist-packages (from datascience) (0.5)\n",
            "Requirement already satisfied: pytest in /usr/local/lib/python3.7/dist-packages (from datascience) (3.6.4)\n",
            "Requirement already satisfied: coverage==3.7.1 in /usr/local/lib/python3.7/dist-packages (from datascience) (3.7.1)\n",
            "Requirement already satisfied: setuptools in /usr/local/lib/python3.7/dist-packages (from datascience) (57.4.0)\n",
            "Requirement already satisfied: requests>=1.0.0 in /usr/local/lib/python3.7/dist-packages (from coveralls==0.5->datascience) (2.23.0)\n",
            "Requirement already satisfied: docopt>=0.6.1 in /usr/local/lib/python3.7/dist-packages (from coveralls==0.5->datascience) (0.6.2)\n",
            "Requirement already satisfied: PyYAML>=3.10 in /usr/local/lib/python3.7/dist-packages (from coveralls==0.5->datascience) (3.13)\n",
            "Requirement already satisfied: Jinja2 in /usr/local/lib/python3.7/dist-packages (from folium==0.2.1->datascience) (2.11.3)\n",
            "Requirement already satisfied: urllib3!=1.25.0,!=1.25.1,<1.26,>=1.21.1 in /usr/local/lib/python3.7/dist-packages (from requests>=1.0.0->coveralls==0.5->datascience) (1.24.3)\n",
            "Requirement already satisfied: chardet<4,>=3.0.2 in /usr/local/lib/python3.7/dist-packages (from requests>=1.0.0->coveralls==0.5->datascience) (3.0.4)\n",
            "Requirement already satisfied: certifi>=2017.4.17 in /usr/local/lib/python3.7/dist-packages (from requests>=1.0.0->coveralls==0.5->datascience) (2021.10.8)\n",
            "Requirement already satisfied: idna<3,>=2.5 in /usr/local/lib/python3.7/dist-packages (from requests>=1.0.0->coveralls==0.5->datascience) (2.10)\n",
            "Requirement already satisfied: MarkupSafe>=0.23 in /usr/local/lib/python3.7/dist-packages (from Jinja2->folium==0.2.1->datascience) (2.0.1)\n",
            "Requirement already satisfied: six>=1.10.0 in /usr/local/lib/python3.7/dist-packages (from pytest->datascience) (1.15.0)\n",
            "Requirement already satisfied: pluggy<0.8,>=0.5 in /usr/local/lib/python3.7/dist-packages (from pytest->datascience) (0.7.1)\n",
            "Requirement already satisfied: attrs>=17.4.0 in /usr/local/lib/python3.7/dist-packages (from pytest->datascience) (21.4.0)\n",
            "Requirement already satisfied: atomicwrites>=1.0 in /usr/local/lib/python3.7/dist-packages (from pytest->datascience) (1.4.0)\n",
            "Requirement already satisfied: more-itertools>=4.0.0 in /usr/local/lib/python3.7/dist-packages (from pytest->datascience) (8.12.0)\n",
            "Requirement already satisfied: py>=1.5.0 in /usr/local/lib/python3.7/dist-packages (from pytest->datascience) (1.11.0)\n",
            "Requirement already satisfied: packaging in /usr/local/lib/python3.7/dist-packages (from sphinx->datascience) (21.3)\n",
            "Requirement already satisfied: alabaster<0.8,>=0.7 in /usr/local/lib/python3.7/dist-packages (from sphinx->datascience) (0.7.12)\n",
            "Requirement already satisfied: sphinxcontrib-websupport in /usr/local/lib/python3.7/dist-packages (from sphinx->datascience) (1.2.4)\n",
            "Requirement already satisfied: snowballstemmer>=1.1 in /usr/local/lib/python3.7/dist-packages (from sphinx->datascience) (2.2.0)\n",
            "Requirement already satisfied: babel!=2.0,>=1.3 in /usr/local/lib/python3.7/dist-packages (from sphinx->datascience) (2.10.1)\n",
            "Requirement already satisfied: imagesize in /usr/local/lib/python3.7/dist-packages (from sphinx->datascience) (1.3.0)\n",
            "Requirement already satisfied: Pygments>=2.0 in /usr/local/lib/python3.7/dist-packages (from sphinx->datascience) (2.6.1)\n",
            "Requirement already satisfied: docutils<0.18,>=0.11 in /usr/local/lib/python3.7/dist-packages (from sphinx->datascience) (0.17.1)\n",
            "Requirement already satisfied: pytz>=2015.7 in /usr/local/lib/python3.7/dist-packages (from babel!=2.0,>=1.3->sphinx->datascience) (2022.1)\n",
            "Requirement already satisfied: pyparsing!=3.0.5,>=2.0.2 in /usr/local/lib/python3.7/dist-packages (from packaging->sphinx->datascience) (3.0.8)\n",
            "Requirement already satisfied: sphinxcontrib-serializinghtml in /usr/local/lib/python3.7/dist-packages (from sphinxcontrib-websupport->sphinx->datascience) (1.1.5)\n",
            "Building wheels for collected packages: folium\n",
            "  Building wheel for folium (setup.py) ... \u001b[?25l\u001b[?25hdone\n",
            "  Created wheel for folium: filename=folium-0.2.1-py3-none-any.whl size=79808 sha256=ca63f9a7207e7a19df23b8dd517beedcd64c952dd0a5fb76bd3963f7f7e32489\n",
            "  Stored in directory: /root/.cache/pip/wheels/9a/f0/3a/3f79a6914ff5affaf50cabad60c9f4d565283283c97f0bdccf\n",
            "Successfully built folium\n",
            "Installing collected packages: folium\n",
            "  Attempting uninstall: folium\n",
            "    Found existing installation: folium 0.8.3\n",
            "    Uninstalling folium-0.8.3:\n",
            "      Successfully uninstalled folium-0.8.3\n",
            "Successfully installed folium-0.2.1\n"
          ]
        }
      ],
      "source": [
        "# Install the required package\n",
        "!pip install datascience"
      ]
    },
    {
      "cell_type": "code",
      "execution_count": 2,
      "metadata": {
        "id": "MOcoAJ4nbnuO",
        "outputId": "99e788f2-07f9-4d94-db17-cc3266c44eb2",
        "colab": {
          "base_uri": "https://localhost:8080/"
        }
      },
      "outputs": [
        {
          "output_type": "stream",
          "name": "stderr",
          "text": [
            "/usr/local/lib/python3.7/dist-packages/datascience/tables.py:17: MatplotlibDeprecationWarning: The 'warn' parameter of use() is deprecated since Matplotlib 3.1 and will be removed in 3.3.  If any parameter follows 'warn', they should be pass as keyword, not positionally.\n",
            "  matplotlib.use('agg', warn=False)\n",
            "/usr/local/lib/python3.7/dist-packages/datascience/util.py:10: MatplotlibDeprecationWarning: The 'warn' parameter of use() is deprecated since Matplotlib 3.1 and will be removed in 3.3.  If any parameter follows 'warn', they should be pass as keyword, not positionally.\n",
            "  matplotlib.use('agg', warn=False)\n"
          ]
        }
      ],
      "source": [
        "# Run this cell, but please don't change it.\n",
        "\n",
        "# These lines import the Numpy and Datascience modules.\n",
        "import numpy as np\n",
        "from datascience import *\n",
        "\n",
        "# These lines do some fancy plotting magic\n",
        "import matplotlib\n",
        "%matplotlib inline\n",
        "import matplotlib.pyplot as plt\n",
        "plt.style.use('fivethirtyeight')"
      ]
    },
    {
      "cell_type": "markdown",
      "metadata": {
        "id": "_6QsFzMFbnuO"
      },
      "source": [
        "Run the cell below to load player and salary data that we will use for our sampling."
      ]
    },
    {
      "cell_type": "code",
      "execution_count": 4,
      "metadata": {
        "id": "PWKubv4zbnuP",
        "outputId": "836f6acc-b6e4-40f6-887a-6a067ef746c7",
        "colab": {
          "base_uri": "https://localhost:8080/",
          "height": 484
        }
      },
      "outputs": [
        {
          "output_type": "display_data",
          "data": {
            "text/plain": [
              "<IPython.core.display.HTML object>"
            ],
            "text/html": [
              "<table border=\"1\" class=\"dataframe\">\n",
              "    <thead>\n",
              "        <tr>\n",
              "            <th>Name</th> <th>Age</th> <th>Team</th> <th>Games</th> <th>Rebounds</th> <th>Assists</th> <th>Steals</th> <th>Blocks</th> <th>Turnovers</th> <th>Points</th>\n",
              "        </tr>\n",
              "    </thead>\n",
              "    <tbody>\n",
              "        <tr>\n",
              "            <td>James Harden </td> <td>25  </td> <td>HOU </td> <td>81   </td> <td>459     </td> <td>565    </td> <td>154   </td> <td>60    </td> <td>321      </td> <td>2217  </td>\n",
              "        </tr>\n",
              "        <tr>\n",
              "            <td>Chris Paul   </td> <td>29  </td> <td>LAC </td> <td>82   </td> <td>376     </td> <td>838    </td> <td>156   </td> <td>15    </td> <td>190      </td> <td>1564  </td>\n",
              "        </tr>\n",
              "        <tr>\n",
              "            <td>Stephen Curry</td> <td>26  </td> <td>GSW </td> <td>80   </td> <td>341     </td> <td>619    </td> <td>163   </td> <td>16    </td> <td>249      </td> <td>1900  </td>\n",
              "        </tr>\n",
              "    </tbody>\n",
              "</table>\n",
              "<p>... (489 rows omitted)</p>"
            ]
          },
          "metadata": {}
        },
        {
          "output_type": "display_data",
          "data": {
            "text/plain": [
              "<IPython.core.display.HTML object>"
            ],
            "text/html": [
              "<table border=\"1\" class=\"dataframe\">\n",
              "    <thead>\n",
              "        <tr>\n",
              "            <th>PlayerName</th> <th>Salary</th>\n",
              "        </tr>\n",
              "    </thead>\n",
              "    <tbody>\n",
              "        <tr>\n",
              "            <td>Kobe Bryant      </td> <td>23500000</td>\n",
              "        </tr>\n",
              "        <tr>\n",
              "            <td>Amar'e Stoudemire</td> <td>23410988</td>\n",
              "        </tr>\n",
              "        <tr>\n",
              "            <td>Joe Johnson      </td> <td>23180790</td>\n",
              "        </tr>\n",
              "    </tbody>\n",
              "</table>\n",
              "<p>... (489 rows omitted)</p>"
            ]
          },
          "metadata": {}
        },
        {
          "output_type": "display_data",
          "data": {
            "text/plain": [
              "<IPython.core.display.HTML object>"
            ],
            "text/html": [
              "<table border=\"1\" class=\"dataframe\">\n",
              "    <thead>\n",
              "        <tr>\n",
              "            <th>PlayerName</th> <th>Salary</th> <th>Age</th> <th>Team</th> <th>Games</th> <th>Rebounds</th> <th>Assists</th> <th>Steals</th> <th>Blocks</th> <th>Turnovers</th> <th>Points</th>\n",
              "        </tr>\n",
              "    </thead>\n",
              "    <tbody>\n",
              "        <tr>\n",
              "            <td>A.J. Price  </td> <td>62552  </td> <td>28  </td> <td>TOT </td> <td>26   </td> <td>32      </td> <td>46     </td> <td>7     </td> <td>0     </td> <td>14       </td> <td>133   </td>\n",
              "        </tr>\n",
              "        <tr>\n",
              "            <td>Aaron Brooks</td> <td>1145685</td> <td>30  </td> <td>CHI </td> <td>82   </td> <td>166     </td> <td>261    </td> <td>54    </td> <td>15    </td> <td>157      </td> <td>954   </td>\n",
              "        </tr>\n",
              "        <tr>\n",
              "            <td>Aaron Gordon</td> <td>3992040</td> <td>19  </td> <td>ORL </td> <td>47   </td> <td>169     </td> <td>33     </td> <td>21    </td> <td>22    </td> <td>38       </td> <td>243   </td>\n",
              "        </tr>\n",
              "    </tbody>\n",
              "</table>\n",
              "<p>... (489 rows omitted)</p>"
            ]
          },
          "metadata": {}
        }
      ],
      "source": [
        "player_data = Table().read_table(\"player_data.csv\")\n",
        "salary_data = Table().read_table(\"salary_data.csv\")\n",
        "full_data = salary_data.join(\"PlayerName\", player_data, \"Name\")\n",
        "\n",
        "# The show method immediately displays the contents of a table. \n",
        "# This way, we can display the top of two tables using a single cell.\n",
        "player_data.show(3)\n",
        "salary_data.show(3)\n",
        "full_data.show(3)"
      ]
    },
    {
      "cell_type": "markdown",
      "metadata": {
        "id": "9vSrXD_JbnuQ"
      },
      "source": [
        "Rather than getting data on every player (as in the tables loaded above), imagine that we had gotten data on only a smaller subset of the players. For 492 players, it's not so unreasonable to expect to see all the data, but usually we aren't so lucky.\n",
        "\n",
        "If we want to make estimates about a certain numerical property of the population (known as a statistic, e.g. the mean or median), we may have to come up with these estimates based only on a smaller sample. Whether these estimates are useful or not often depends on how the sample was gathered. We have prepared some example sample datasets to see how they compare to the full NBA dataset. Later we'll ask you to create your own samples to see how they behave."
      ]
    },
    {
      "cell_type": "markdown",
      "metadata": {
        "id": "pbLzziD1bnuQ"
      },
      "source": [
        "To save typing and increase the clarity of your code, we will package the analysis code into a few functions. This will be useful in the rest of the lab as we will repeatedly need to create histograms and collect summary statistics from that data."
      ]
    },
    {
      "cell_type": "markdown",
      "metadata": {
        "id": "ShkCFGGcbnuR"
      },
      "source": [
        "We've defined the histograms function below, which takes a table with columns Age and Salary and draws a histogram for each one. It uses bin widths of 1 year for Age and $1,000,000 for Salary."
      ]
    },
    {
      "cell_type": "code",
      "execution_count": null,
      "metadata": {
        "id": "pmnUTdq4bnuS"
      },
      "outputs": [],
      "source": [
        "def histograms(t):\n",
        "    ages = t.column('Age')\n",
        "    salaries = t.column('Salary')/1000000\n",
        "    t1 = t.drop('Salary').with_column('Salary', salaries)\n",
        "    age_bins = np.arange(min(ages), max(ages) + 2, 1) \n",
        "    salary_bins = np.arange(min(salaries), max(salaries) + 1, 1)\n",
        "    t1.hist('Age', bins=age_bins, unit='year')\n",
        "    plt.title('Age distribution')\n",
        "    t1.hist('Salary', bins=salary_bins, unit='million dollars')\n",
        "    plt.title('Salary distribution') \n",
        "    \n",
        "histograms(full_data)\n",
        "print('Two histograms should be displayed below')"
      ]
    },
    {
      "cell_type": "markdown",
      "metadata": {
        "id": "GeSHNC-ibnuT"
      },
      "source": [
        "### Question 1 (10 points) \n",
        "\n",
        "Create a function called compute_statistics that takes a table containing ages and salaries and:\n",
        "\n",
        "(1) Draws a histogram of ages\n",
        "\n",
        "(2) Draws a histogram of salaries\n",
        "\n",
        "(3) Returns a two-element array containing the average age and average salary (in that order)\n",
        "\n",
        "\n",
        "You can call the histograms function to draw the histograms!\n",
        "\n",
        "Note: More charts will be displayed when running the test cell. Please feel free to ignore the charts."
      ]
    },
    {
      "cell_type": "code",
      "execution_count": null,
      "metadata": {
        "id": "c1WOj0DJbnuT"
      },
      "outputs": [],
      "source": [
        "### You code here\n",
        "\n",
        "def compute_statistics(age_and_salary_data):\n",
        "    ...\n",
        "    age = ...\n",
        "    salary = ...\n",
        "    ...\n",
        "    \n",
        "\n",
        "full_stats = compute_statistics(full_data)\n",
        "full_stats\n",
        "\n"
      ]
    },
    {
      "cell_type": "code",
      "execution_count": null,
      "metadata": {
        "id": "zJb5kNm5bnuU"
      },
      "outputs": [],
      "source": [
        "# TEST\n",
        "stats = compute_statistics(full_data)\n",
        "plt.close()\n",
        "plt.close()\n",
        "round(float(stats[0]), 2) == 26.54\n",
        "\n"
      ]
    },
    {
      "cell_type": "code",
      "execution_count": null,
      "metadata": {
        "id": "TDGTx6A7bnuU"
      },
      "outputs": [],
      "source": [
        "# TEST\n",
        "stats = compute_statistics(full_data)\n",
        "plt.close()\n",
        "plt.close()\n",
        "round(float(stats[1]), 2) == 4269775.77\n",
        "\n"
      ]
    },
    {
      "cell_type": "markdown",
      "metadata": {
        "id": "xX_7D5eHbnuV"
      },
      "source": [
        "### Question 2 (10 points) Convenience sampling\n",
        "\n",
        "One sampling methodology, which is generally a bad idea, is to choose players who are somehow convenient to sample. For example, you might choose players from one team who are near your house, since it's easier to survey them. This is called, somewhat pejoratively, convenience sampling.\n",
        "\n",
        "Suppose you survey only relatively new players with ages less than 22. (The more experienced players didn't bother to answer your surveys about their salaries.)\n",
        "\n",
        "Assign `convenience_sample` to a subset of `full_data` that contains only the rows for players under the age of 22."
      ]
    },
    {
      "cell_type": "code",
      "execution_count": null,
      "metadata": {
        "id": "0lYkqWCHbnuV",
        "outputId": "a3f9749b-4484-4ecc-b9a7-546ed1f57fc4"
      },
      "outputs": [
        {
          "data": {
            "text/plain": [
              "Ellipsis"
            ]
          },
          "execution_count": 1,
          "metadata": {},
          "output_type": "execute_result"
        }
      ],
      "source": [
        "### You code here:\n",
        "\n",
        "convenience_sample = ...\n",
        "convenience_sample\n",
        "\n",
        "\n",
        "\n"
      ]
    },
    {
      "cell_type": "code",
      "execution_count": null,
      "metadata": {
        "id": "19G3U1VXbnuX"
      },
      "outputs": [],
      "source": [
        "# TEST\n",
        "convenience_sample.num_columns == 11\n",
        "\n"
      ]
    },
    {
      "cell_type": "code",
      "execution_count": null,
      "metadata": {
        "id": "IytDgZ9AbnuX"
      },
      "outputs": [],
      "source": [
        "# TEST\n",
        "convenience_sample.num_rows == 44\n",
        "\n"
      ]
    },
    {
      "cell_type": "markdown",
      "metadata": {
        "id": "a0bGdbNXbnuX"
      },
      "source": [
        "### Question 3 (10 points) \n",
        "\n",
        "Assign convenience_stats to an array of the average age and average salary of your convenience sample, using the compute_statistics function. Since they're computed on a sample, these are called sample averages."
      ]
    },
    {
      "cell_type": "code",
      "execution_count": null,
      "metadata": {
        "id": "_PC7xNq_bnuY"
      },
      "outputs": [],
      "source": [
        "convenience_stats = ...\n",
        "convenience_stats\n",
        "\n"
      ]
    },
    {
      "cell_type": "code",
      "execution_count": null,
      "metadata": {
        "id": "kdP61ZN5bnuY"
      },
      "outputs": [],
      "source": [
        "# TEST\n",
        "len(convenience_stats) == 2\n",
        "\n"
      ]
    },
    {
      "cell_type": "code",
      "execution_count": null,
      "metadata": {
        "id": "oAKEZbewbnuY"
      },
      "outputs": [],
      "source": [
        "# TEST \n",
        "round(float(convenience_stats[0]), 2) == 20.36\n",
        "\n"
      ]
    },
    {
      "cell_type": "code",
      "execution_count": null,
      "metadata": {
        "id": "tXCAgekSbnuY"
      },
      "outputs": [],
      "source": [
        "# TEST\n",
        "round(float(convenience_stats[1]), 2) == 2383533.82\n",
        "\n"
      ]
    },
    {
      "cell_type": "markdown",
      "metadata": {
        "id": "aVUdpIgPbnuZ"
      },
      "source": [
        "Next, we'll compare the convenience sample salaries with the full data salaries in a single histogram. To do that, we'll need to use the bin_column option of the hist method, which indicates that all columns are counts of the bins in a particular column. The following cell does not require any changes; just run it."
      ]
    },
    {
      "cell_type": "code",
      "execution_count": null,
      "metadata": {
        "id": "KnckGMg-bnuZ"
      },
      "outputs": [],
      "source": [
        "def compare_salaries(first, second, first_title, second_title):\n",
        "    \"\"\"Compare the salaries in two tables.\"\"\"\n",
        "    first_salary_in_millions = first.column('Salary')/1000000\n",
        "    second_salary_in_millions = second.column('Salary')/1000000\n",
        "    first_tbl_millions = first.drop('Salary').with_column('Salary', first_salary_in_millions)\n",
        "    second_tbl_millions = second.drop('Salary').with_column('Salary', second_salary_in_millions)\n",
        "    max_salary = max(np.append(first_tbl_millions.column('Salary'), second_tbl_millions.column('Salary')))\n",
        "    bins = np.arange(0, max_salary+1, 1)\n",
        "    first_binned = first_tbl_millions.bin('Salary', bins=bins).relabeled(1, first_title)\n",
        "    second_binned = second_tbl_millions.bin('Salary', bins=bins).relabeled(1, second_title)\n",
        "    first_binned.join('bin', second_binned).hist(bin_column='bin', unit='million dollars')\n",
        "    plt.title('Salaries for all players and convenience sample')\n",
        "\n",
        "compare_salaries(full_data, convenience_sample, 'All Players', 'Convenience Sample')"
      ]
    },
    {
      "cell_type": "markdown",
      "metadata": {
        "id": "4ok6buzRbnuZ"
      },
      "source": [
        "### Question 4 (10 points) \n",
        "Does the convenience sample give us an accurate picture of the salary of the full population? Would you expect it to, in general? Before you move on, write a short answer in English below. You can refer to the statistics calculated above or perform your own analysis."
      ]
    },
    {
      "cell_type": "code",
      "execution_count": null,
      "metadata": {
        "id": "GqqwHAUrbnuZ",
        "outputId": "4cde139b-c234-47c3-d137-232ab5e163b1"
      },
      "outputs": [
        {
          "data": {
            "text/plain": [
              "'\\nAnswer: \\n\\n\\n\\n'"
            ]
          },
          "execution_count": 2,
          "metadata": {},
          "output_type": "execute_result"
        }
      ],
      "source": [
        "### Please write your answer here (no code required)\n",
        "\n",
        "\"\"\"\n",
        "Answer: \n",
        "\n",
        "\n",
        "\n",
        "\"\"\""
      ]
    },
    {
      "cell_type": "markdown",
      "metadata": {
        "id": "oopu2hTfbnua"
      },
      "source": [
        "### Simple random sampling\n",
        "A more justifiable approach is to sample uniformly at random from the players.  In a **simple random sample (SRS) without replacement**, we ensure that each player is selected at most once. Imagine writing down each player's name on a card, putting the cards in an box, and shuffling the box.  Then, pull out cards one by one and set them aside, stopping when the specified sample size is reached."
      ]
    },
    {
      "cell_type": "markdown",
      "metadata": {
        "id": "0hG6-E87bnua"
      },
      "source": [
        "### Producing simple random samples\n",
        "Sometimes, it’s useful to take random samples even when we have the data for the whole population. It helps us understand sampling accuracy.\n",
        "\n",
        "### `sample`\n",
        "\n",
        "The table method `sample` produces a random sample from the table. By default, it draws at random **with replacement** from the rows of a table. It takes in the sample size as its argument and returns a **table** with only the rows that were selected. \n",
        "\n",
        "Run the cell below to see an example call to `sample()` with a sample size of 5, with replacement."
      ]
    },
    {
      "cell_type": "code",
      "execution_count": null,
      "metadata": {
        "id": "K4xaeNtFbnua"
      },
      "outputs": [],
      "source": [
        "# Just run this cell\n",
        "\n",
        "salary_data.sample(5)"
      ]
    },
    {
      "cell_type": "markdown",
      "metadata": {
        "id": "MGzNHwLLbnub"
      },
      "source": [
        "The optional argument with_replacement=False can be passed through sample() to specify that the sample should be drawn without replacement.\n",
        "\n",
        "Run the cell below to see an example call to sample() with a sample size of 5, without replacement."
      ]
    },
    {
      "cell_type": "code",
      "execution_count": null,
      "metadata": {
        "id": "nwdpAfvxbnub"
      },
      "outputs": [],
      "source": [
        "# Just run this cell\n",
        "\n",
        "salary_data.sample(5, with_replacement=False)"
      ]
    },
    {
      "cell_type": "markdown",
      "metadata": {
        "id": "VNcSrTGMbnub"
      },
      "source": [
        "### Question 5 (10 points) \n",
        "Produce a simple random sample of size 44 from `full_data`. Run your analysis on it again.  Run the cell a few times to see how the histograms and statistics change across different samples."
      ]
    },
    {
      "cell_type": "code",
      "execution_count": null,
      "metadata": {
        "id": "dSYdKuETbnuc"
      },
      "outputs": [],
      "source": [
        "my_small_srswor_data = ...\n",
        "my_small_stats = ...\n",
        "my_small_stats"
      ]
    },
    {
      "cell_type": "markdown",
      "metadata": {
        "id": "BK_zO_4dbnuc"
      },
      "source": [
        "Before you move on, write a short answer for the following questions in English:\n",
        "\n",
        "(1) How much does the average age change across samples?\n",
        "\n",
        "(2) What about average salary?"
      ]
    },
    {
      "cell_type": "code",
      "execution_count": null,
      "metadata": {
        "id": "PBKDlpWzbnuc"
      },
      "outputs": [],
      "source": [
        "### Please write your answer here (no code required)\n",
        "\n",
        "\"\"\"\n",
        "Answer: \n",
        "\n",
        "\n",
        "\n",
        "\"\"\""
      ]
    },
    {
      "cell_type": "markdown",
      "metadata": {
        "id": "vCUe7F-Cbnuc"
      },
      "source": [
        "### Question 6 (5 extra points) \n",
        "As in the previous question, analyze several simple random samples of size 100 from `full_data`.  "
      ]
    },
    {
      "cell_type": "code",
      "execution_count": null,
      "metadata": {
        "id": "DPA1bJQLbnud"
      },
      "outputs": [],
      "source": [
        "my_large_srswor_data = ...\n",
        "my_large_stats = ...\n",
        "my_large_stats"
      ]
    },
    {
      "cell_type": "markdown",
      "metadata": {
        "id": "SZyv93Ahbnud"
      },
      "source": [
        "Answer the following questions in English:\n",
        "\n",
        "(1) Do the histogram shapes seem to change more or less across samples of 100 than across samples of size 44?\n",
        "\n",
        "(2) Are the sample averages and histograms closer to their true values/shape for age or for salary? What did you expect to see?"
      ]
    },
    {
      "cell_type": "code",
      "execution_count": null,
      "metadata": {
        "id": "Bh9OjOdjbnud"
      },
      "outputs": [],
      "source": [
        "### Please write your answer here (no code required)\n",
        "\n",
        "\"\"\"\n",
        "Answer: \n",
        "\n",
        "\n",
        "\n",
        "\"\"\""
      ]
    }
  ],
  "metadata": {
    "kernelspec": {
      "display_name": "Python 3",
      "language": "python",
      "name": "python3"
    },
    "language_info": {
      "codemirror_mode": {
        "name": "ipython",
        "version": 3
      },
      "file_extension": ".py",
      "mimetype": "text/x-python",
      "name": "python",
      "nbconvert_exporter": "python",
      "pygments_lexer": "ipython3",
      "version": "3.8.5"
    },
    "colab": {
      "name": "lab_assignment_08.ipynb",
      "provenance": [],
      "include_colab_link": true
    }
  },
  "nbformat": 4,
  "nbformat_minor": 0
}